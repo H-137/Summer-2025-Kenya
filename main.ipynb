{
 "cells": [
  {
   "cell_type": "markdown",
   "id": "35ee4951",
   "metadata": {},
   "source": [
    "# Sentinel‑2 Cloud & Shadow Masking Workflow (s2cloudless)\n",
    "This notebook builds a cloud‑free composite, computes NDVI & SWI, and overlays Dynamic World grass and SWI outlines, all using Earth Engine.\n",
    "Run each cell top‑to‑bottom. You can tweak the user‑input section to analyse a different AOI or date range."
   ]
  },
  {
   "cell_type": "markdown",
   "id": "374911ee",
   "metadata": {},
   "source": [
    "Follow https://developers.google.com/earth-engine/reference/Quickstart#before-you-begin to get a secret key"
   ]
  },
  {
   "cell_type": "code",
   "execution_count": 37,
   "id": "1959b534",
   "metadata": {},
   "outputs": [
    {
     "data": {
      "text/html": [
       "\n",
       "            <style>\n",
       "                .geemap-dark {\n",
       "                    --jp-widgets-color: white;\n",
       "                    --jp-widgets-label-color: white;\n",
       "                    --jp-ui-font-color1: white;\n",
       "                    --jp-layout-color2: #454545;\n",
       "                    background-color: #383838;\n",
       "                }\n",
       "\n",
       "                .geemap-dark .jupyter-button {\n",
       "                    --jp-layout-color3: #383838;\n",
       "                }\n",
       "\n",
       "                .geemap-colab {\n",
       "                    background-color: var(--colab-primary-surface-color, white);\n",
       "                }\n",
       "\n",
       "                .geemap-colab .jupyter-button {\n",
       "                    --jp-layout-color3: var(--colab-primary-surface-color, white);\n",
       "                }\n",
       "            </style>\n",
       "            "
      ],
      "text/plain": [
       "<IPython.core.display.HTML object>"
      ]
     },
     "metadata": {},
     "output_type": "display_data"
    }
   ],
   "source": [
    "import ee, geemap, datetime, json\n",
    "\n",
    "KEY = 'my-secret-key.json'\n",
    "with open(KEY, 'r') as f:\n",
    "    data = json.load(f)\n",
    "    SERVICE_ACCOUNT = data['client_email']\n",
    "    PROJECT = data['project_id']\n",
    "\n",
    "ee_creds = ee.ServiceAccountCredentials(SERVICE_ACCOUNT, KEY)\n",
    "ee.Initialize(ee_creds)"
   ]
  },
  {
   "cell_type": "markdown",
   "id": "0428e991",
   "metadata": {},
   "source": [
    "## User inputs – AOI, dates, thresholds"
   ]
  },
  {
   "cell_type": "code",
   "execution_count": 38,
   "id": "c222237c",
   "metadata": {},
   "outputs": [
    {
     "data": {
      "text/html": [
       "\n",
       "            <style>\n",
       "                .geemap-dark {\n",
       "                    --jp-widgets-color: white;\n",
       "                    --jp-widgets-label-color: white;\n",
       "                    --jp-ui-font-color1: white;\n",
       "                    --jp-layout-color2: #454545;\n",
       "                    background-color: #383838;\n",
       "                }\n",
       "\n",
       "                .geemap-dark .jupyter-button {\n",
       "                    --jp-layout-color3: #383838;\n",
       "                }\n",
       "\n",
       "                .geemap-colab {\n",
       "                    background-color: var(--colab-primary-surface-color, white);\n",
       "                }\n",
       "\n",
       "                .geemap-colab .jupyter-button {\n",
       "                    --jp-layout-color3: var(--colab-primary-surface-color, white);\n",
       "                }\n",
       "            </style>\n",
       "            "
      ],
      "text/plain": [
       "<IPython.core.display.HTML object>"
      ]
     },
     "metadata": {},
     "output_type": "display_data"
    }
   ],
   "source": [
    "geom = ee.Geometry.BBox(36.2597202470, 4.19477694745,\n",
    "                 36.3308408646, 4.26022461625)\n",
    "time_start  = '2025-05-14'\n",
    "time_end    = '2025-06-14'\n",
    "\n",
    "cloud_thresh = 60   # % scene‑level filter\n",
    "CLD_PRB_THRESH = 30 # s2cloudless probability threshold\n",
    "NIR_DRK_THRESH = 0.15\n",
    "CLD_PRJ_DIST   = 2  # km\n",
    "BUFFER         = 100  # m\n",
    "ndvi_thresh  = 0.3\n",
    "swi_thresh   = 0.2"
   ]
  },
  {
   "cell_type": "markdown",
   "id": "ed94e940",
   "metadata": {},
   "source": [
    "## Helper functions – cloud & shadow masking, NDVI, timestamp"
   ]
  },
  {
   "cell_type": "code",
   "execution_count": 39,
   "id": "bdc6b497",
   "metadata": {},
   "outputs": [
    {
     "data": {
      "text/html": [
       "\n",
       "            <style>\n",
       "                .geemap-dark {\n",
       "                    --jp-widgets-color: white;\n",
       "                    --jp-widgets-label-color: white;\n",
       "                    --jp-ui-font-color1: white;\n",
       "                    --jp-layout-color2: #454545;\n",
       "                    background-color: #383838;\n",
       "                }\n",
       "\n",
       "                .geemap-dark .jupyter-button {\n",
       "                    --jp-layout-color3: #383838;\n",
       "                }\n",
       "\n",
       "                .geemap-colab {\n",
       "                    background-color: var(--colab-primary-surface-color, white);\n",
       "                }\n",
       "\n",
       "                .geemap-colab .jupyter-button {\n",
       "                    --jp-layout-color3: var(--colab-primary-surface-color, white);\n",
       "                }\n",
       "            </style>\n",
       "            "
      ],
      "text/plain": [
       "<IPython.core.display.HTML object>"
      ]
     },
     "metadata": {},
     "output_type": "display_data"
    }
   ],
   "source": [
    "def get_s2_sr_cld_col(aoi, start_date, end_date):\n",
    "    s2_sr = (ee.ImageCollection('COPERNICUS/S2_SR_HARMONIZED')\n",
    "              .filterBounds(aoi)\n",
    "              .filterDate(start_date, end_date)\n",
    "              .filter(ee.Filter.lte('CLOUDY_PIXEL_PERCENTAGE', cloud_thresh)))\n",
    "    s2_cld = (ee.ImageCollection('COPERNICUS/S2_CLOUD_PROBABILITY')\n",
    "              .filterBounds(aoi)\n",
    "              .filterDate(start_date, end_date))\n",
    "    return ee.ImageCollection(ee.Join.saveFirst('s2cloudless').apply(**{\n",
    "        'primary': s2_sr,\n",
    "        'secondary': s2_cld,\n",
    "        'condition': ee.Filter.equals(leftField='system:index', rightField='system:index')\n",
    "    }))\n",
    "\n",
    "def add_cloud_bands(img):\n",
    "    cld_prb = ee.Image(img.get('s2cloudless')).select('probability')\n",
    "    is_cloud = cld_prb.gt(CLD_PRB_THRESH).rename('clouds')\n",
    "    return img.addBands([cld_prb, is_cloud])\n",
    "\n",
    "def add_shadow_bands(img):\n",
    "    not_water = img.select('SCL').neq(6)\n",
    "    dark_pixels = img.select('B8').lt(NIR_DRK_THRESH * 1e4).multiply(not_water).rename('dark_pixels')\n",
    "    azimuth = ee.Number(90).subtract(ee.Number(img.get('MEAN_SOLAR_AZIMUTH_ANGLE')))\n",
    "    cld_proj = (img.select('clouds').directionalDistanceTransform(azimuth, CLD_PRJ_DIST * 10)\n",
    "                 .reproject(crs=img.select(0).projection(), scale=100)\n",
    "                 .select('distance').mask().rename('cloud_transform'))\n",
    "    shadows = cld_proj.multiply(dark_pixels).rename('shadows')\n",
    "    return img.addBands([dark_pixels, cld_proj, shadows])\n",
    "\n",
    "def add_cld_shdw_mask(img):\n",
    "    img_cloud = add_cloud_bands(img)\n",
    "    img_cloud_shadow = add_shadow_bands(img_cloud)\n",
    "    is_cld_shdw = img_cloud_shadow.select('clouds').add(img_cloud_shadow.select('shadows')).gt(0)\n",
    "    is_cld_shdw = (is_cld_shdw.focalMin(2).focalMax(BUFFER*2/20)\n",
    "                    .reproject(crs=img.select([0]).projection(), scale=20)\n",
    "                    .rename('cloudmask'))\n",
    "    return img_cloud_shadow.addBands(is_cld_shdw)\n",
    "\n",
    "def apply_cld_shdw_mask(img):\n",
    "    return img.updateMask(img.select('cloudmask').Not())\n",
    "\n",
    "def add_ndvi(img):\n",
    "    return img.addBands(img.normalizedDifference(['B8', 'B4']).rename('NDVI'))\n",
    "\n",
    "def add_timestamp(img):\n",
    "    ts = ee.Image.constant(img.date().millis()).rename('timestamp').toInt64()\n",
    "    return img.addBands(ts)\n",
    "\n",
    "def preprocess(img):\n",
    "    \"\"\"Add NDVI, timestamp (after mask) and a numeric image‑ID band.\"\"\"\n",
    "    # ---------- NDVI\n",
    "    img = img.addBands(img.normalizedDifference(['B8','B4']).rename('NDVI'))\n",
    "    \n",
    "    # ---------- timestamp band (ms since 1970‑01‑01)\n",
    "    ts = ee.Image.constant(img.date().millis()) \\\n",
    "            .rename('timestamp') \\\n",
    "            .toInt64() \\\n",
    "            .updateMask(img.select('B8').mask())      # keep only valid pixels\n",
    "    img = img.addBands(ts)\n",
    "    \n",
    "    # ---------- numeric image ID (0,1,2,…) so you can colour by source\n",
    "    img_id = ee.Image.constant(img.get('system:time_start')) \\\n",
    "                .toInt64() \\\n",
    "                .rename('img_id') \\\n",
    "                .updateMask(img.select('B8').mask())\n",
    "    return img.addBands(img_id)"
   ]
  },
  {
   "cell_type": "markdown",
   "id": "c310bcdb",
   "metadata": {},
   "source": [
    "## Build cloud‑masked collection & composite"
   ]
  },
  {
   "cell_type": "code",
   "execution_count": 40,
   "id": "554c61c1",
   "metadata": {},
   "outputs": [
    {
     "data": {
      "text/html": [
       "\n",
       "            <style>\n",
       "                .geemap-dark {\n",
       "                    --jp-widgets-color: white;\n",
       "                    --jp-widgets-label-color: white;\n",
       "                    --jp-ui-font-color1: white;\n",
       "                    --jp-layout-color2: #454545;\n",
       "                    background-color: #383838;\n",
       "                }\n",
       "\n",
       "                .geemap-dark .jupyter-button {\n",
       "                    --jp-layout-color3: #383838;\n",
       "                }\n",
       "\n",
       "                .geemap-colab {\n",
       "                    background-color: var(--colab-primary-surface-color, white);\n",
       "                }\n",
       "\n",
       "                .geemap-colab .jupyter-button {\n",
       "                    --jp-layout-color3: var(--colab-primary-surface-color, white);\n",
       "                }\n",
       "            </style>\n",
       "            "
      ],
      "text/plain": [
       "<IPython.core.display.HTML object>"
      ]
     },
     "metadata": {},
     "output_type": "display_data"
    }
   ],
   "source": [
    "col_raw = get_s2_sr_cld_col(geom, time_start, time_end)\n",
    "col_clean = (col_raw\n",
    "             .map(add_cld_shdw_mask)\n",
    "             .map(apply_cld_shdw_mask)\n",
    "             .map(preprocess))\n",
    "\n",
    "filled   = col_clean.qualityMosaic('timestamp').clip(geom)\n",
    "rgb      = filled.select(['B4','B3','B2']).divide(1e4)\n",
    "timestamp_band = filled.select('timestamp')\n",
    "ndvi   = filled.select('NDVI')\n",
    "swi    = filled.normalizedDifference(['B8','B11']).rename('SWI').gt(swi_thresh)\n",
    "newest_raw = ee.Image(col_raw.sort('system:time_start', False).first()).clip(geom)\n",
    "newest_raw = newest_raw.select(['B4','B3','B2']).divide(1e4)"
   ]
  },
  {
   "cell_type": "markdown",
   "id": "84aff594",
   "metadata": {},
   "source": [
    "## Dynamic World grass mask & outline"
   ]
  },
  {
   "cell_type": "code",
   "execution_count": 41,
   "id": "373e9981",
   "metadata": {},
   "outputs": [
    {
     "data": {
      "text/html": [
       "\n",
       "            <style>\n",
       "                .geemap-dark {\n",
       "                    --jp-widgets-color: white;\n",
       "                    --jp-widgets-label-color: white;\n",
       "                    --jp-ui-font-color1: white;\n",
       "                    --jp-layout-color2: #454545;\n",
       "                    background-color: #383838;\n",
       "                }\n",
       "\n",
       "                .geemap-dark .jupyter-button {\n",
       "                    --jp-layout-color3: #383838;\n",
       "                }\n",
       "\n",
       "                .geemap-colab {\n",
       "                    background-color: var(--colab-primary-surface-color, white);\n",
       "                }\n",
       "\n",
       "                .geemap-colab .jupyter-button {\n",
       "                    --jp-layout-color3: var(--colab-primary-surface-color, white);\n",
       "                }\n",
       "            </style>\n",
       "            "
      ],
      "text/plain": [
       "<IPython.core.display.HTML object>"
      ]
     },
     "metadata": {},
     "output_type": "display_data"
    }
   ],
   "source": [
    "dw = (ee.ImageCollection('GOOGLE/DYNAMICWORLD/V1')\n",
    "        .filterBounds(geom)\n",
    "        .filterDate(time_start, time_end)\n",
    "        .qualityMosaic('grass')\n",
    "        .clip(geom))\n",
    "dw_grass = dw.select('grass').gt(0.3)\n",
    "dw_outline = (dw_grass.reduceToVectors(\n",
    "        geometry=geom,\n",
    "        scale=50,\n",
    "        geometryType='polygon',\n",
    "        eightConnected=False,\n",
    "        labelProperty='grass',\n",
    "        reducer=ee.Reducer.countEvery())\n",
    "        .filter(ee.Filter.gt('grass', 0))\n",
    "        .map(lambda f: f.buffer(30).simplify(30))\n",
    "        .map(lambda f: f.set('area', f.geometry().area()))\n",
    "        .filter(ee.Filter.gt('area', 1e5)))\n",
    "grass_mask  = ee.Image(0).byte().paint(dw_outline, 1)\n",
    "ndvi_masked = ndvi.updateMask(grass_mask).updateMask(ndvi.gt(ndvi_thresh))"
   ]
  },
  {
   "cell_type": "markdown",
   "id": "6bcee82b",
   "metadata": {},
   "source": [
    "## SWI > 0.2 outline"
   ]
  },
  {
   "cell_type": "code",
   "execution_count": 42,
   "id": "74e81891",
   "metadata": {},
   "outputs": [
    {
     "data": {
      "text/html": [
       "\n",
       "            <style>\n",
       "                .geemap-dark {\n",
       "                    --jp-widgets-color: white;\n",
       "                    --jp-widgets-label-color: white;\n",
       "                    --jp-ui-font-color1: white;\n",
       "                    --jp-layout-color2: #454545;\n",
       "                    background-color: #383838;\n",
       "                }\n",
       "\n",
       "                .geemap-dark .jupyter-button {\n",
       "                    --jp-layout-color3: #383838;\n",
       "                }\n",
       "\n",
       "                .geemap-colab {\n",
       "                    background-color: var(--colab-primary-surface-color, white);\n",
       "                }\n",
       "\n",
       "                .geemap-colab .jupyter-button {\n",
       "                    --jp-layout-color3: var(--colab-primary-surface-color, white);\n",
       "                }\n",
       "            </style>\n",
       "            "
      ],
      "text/plain": [
       "<IPython.core.display.HTML object>"
      ]
     },
     "metadata": {},
     "output_type": "display_data"
    }
   ],
   "source": [
    "swi_outline = (swi.reduceToVectors(\n",
    "        geometry=geom,\n",
    "        scale=50,\n",
    "        geometryType='polygon',\n",
    "        eightConnected=True,\n",
    "        labelProperty='SWI',\n",
    "        reducer=ee.Reducer.countEvery())\n",
    "        .filter(ee.Filter.gt('SWI', 0))\n",
    "        .map(lambda f: f.buffer(30).simplify(30))\n",
    "        .map(lambda f: f.set('area', f.geometry().area())))"
   ]
  },
  {
   "cell_type": "markdown",
   "id": "bdcebb12",
   "metadata": {},
   "source": [
    "## NDVI > 0.3 Polygon"
   ]
  },
  {
   "cell_type": "code",
   "execution_count": 43,
   "id": "db6c6d08",
   "metadata": {},
   "outputs": [
    {
     "data": {
      "text/html": [
       "\n",
       "            <style>\n",
       "                .geemap-dark {\n",
       "                    --jp-widgets-color: white;\n",
       "                    --jp-widgets-label-color: white;\n",
       "                    --jp-ui-font-color1: white;\n",
       "                    --jp-layout-color2: #454545;\n",
       "                    background-color: #383838;\n",
       "                }\n",
       "\n",
       "                .geemap-dark .jupyter-button {\n",
       "                    --jp-layout-color3: #383838;\n",
       "                }\n",
       "\n",
       "                .geemap-colab {\n",
       "                    background-color: var(--colab-primary-surface-color, white);\n",
       "                }\n",
       "\n",
       "                .geemap-colab .jupyter-button {\n",
       "                    --jp-layout-color3: var(--colab-primary-surface-color, white);\n",
       "                }\n",
       "            </style>\n",
       "            "
      ],
      "text/plain": [
       "<IPython.core.display.HTML object>"
      ]
     },
     "metadata": {},
     "output_type": "display_data"
    }
   ],
   "source": [
    "# mask out NDVI below threshold\n",
    "ndvi_gt = ndvi.gt(0.3).rename('ndvi_gt')\n",
    "\n",
    "ndvi_outline = (ndvi_gt.updateMask(ndvi.gt(0.3)).reduceToVectors(\n",
    "        geometry=geom,\n",
    "        scale=50,\n",
    "        geometryType='polygon',\n",
    "        eightConnected=True,\n",
    "        labelProperty='NDVI',\n",
    "        reducer=ee.Reducer.countEvery())\n",
    "        .filter(ee.Filter.gt('NDVI', 0))\n",
    "        .map(lambda f: f.buffer(30).simplify(30))\n",
    "        .map(lambda f: f.set('area', f.geometry().area()))\n",
    "        .filter(ee.Filter.gt('area', 1e3)))\n",
    "        "
   ]
  },
  {
   "cell_type": "markdown",
   "id": "2b122558",
   "metadata": {},
   "source": [
    "## Visualise layers on an interactive map"
   ]
  },
  {
   "cell_type": "code",
   "execution_count": 44,
   "id": "5259af3c",
   "metadata": {},
   "outputs": [
    {
     "data": {
      "text/html": [
       "\n",
       "            <style>\n",
       "                .geemap-dark {\n",
       "                    --jp-widgets-color: white;\n",
       "                    --jp-widgets-label-color: white;\n",
       "                    --jp-ui-font-color1: white;\n",
       "                    --jp-layout-color2: #454545;\n",
       "                    background-color: #383838;\n",
       "                }\n",
       "\n",
       "                .geemap-dark .jupyter-button {\n",
       "                    --jp-layout-color3: #383838;\n",
       "                }\n",
       "\n",
       "                .geemap-colab {\n",
       "                    background-color: var(--colab-primary-surface-color, white);\n",
       "                }\n",
       "\n",
       "                .geemap-colab .jupyter-button {\n",
       "                    --jp-layout-color3: var(--colab-primary-surface-color, white);\n",
       "                }\n",
       "            </style>\n",
       "            "
      ],
      "text/plain": [
       "<IPython.core.display.HTML object>"
      ]
     },
     "metadata": {},
     "output_type": "display_data"
    },
    {
     "data": {
      "application/vnd.jupyter.widget-view+json": {
       "model_id": "a5038fd214864242a41fec4145925dba",
       "version_major": 2,
       "version_minor": 0
      },
      "text/plain": [
       "Map(center=[4.227500593872711, 36.29528055580051], controls=(WidgetControl(options=['position', 'transparent_b…"
      ]
     },
     "execution_count": 44,
     "metadata": {},
     "output_type": "execute_result"
    }
   ],
   "source": [
    "Map = geemap.Map()\n",
    "Map.centerObject(geom, 12)\n",
    "rgb_vis = {'min':0, 'max':0.3}\n",
    "ndvi_vis  = {'min':0,'max':1,'palette':['red','yellow','green']}\n",
    "ts_vis = {'min':ee.Date(time_start).millis().getInfo(),\n",
    "          'max':ee.Date(time_end).millis().getInfo(),\n",
    "          'palette':['red','yellow','green']}\n",
    "dw_vis = {'min':0,'max':1,'palette':['white','green']}\n",
    "swi_vis = {'min':0,'max':1,'palette':['white','blue']}\n",
    "ts_vis  = {          \n",
    "    'min': ee.Date(time_start).millis().getInfo(),\n",
    "    'max': ee.Date(time_end).millis().getInfo(),\n",
    "    'palette': ['red', 'yellow', 'green']\n",
    "}\n",
    "\n",
    "Map.addLayer(newest_raw, rgb_vis, 'RGB (Newest Raw)')\n",
    "Map.addLayer(rgb, rgb_vis, 'RGB Composite')\n",
    "Map.addLayer(timestamp_band, ts_vis, 'Pixel acquisition date (older→red, newer→green)')\n",
    "Map.addLayer(ndvi, ndvi_vis, 'NDVI (Masked)')\n",
    "Map.addLayer(dw.select('grass'), dw_vis, 'Dynamic World Grass')\n",
    "Map.addLayer(dw_outline, {'color':'blue'}, 'Grass Outline')\n",
    "Map.addLayer(ndvi_masked, ndvi_vis, 'NDVI Masked to Grass')\n",
    "Map.addLayer(swi, swi_vis, 'SWI > 0.2')\n",
    "Map.addLayer(swi_outline, {'color':'orange'}, 'SWI Outline')\n",
    "Map.addLayer(ndvi_outline, {'color':'purple'}, 'NDVI Outline')\n",
    "Map"
   ]
  },
  {
   "cell_type": "markdown",
   "id": "c74a5259",
   "metadata": {},
   "source": [
    "## Acquisition dates used in this composite"
   ]
  },
  {
   "cell_type": "code",
   "execution_count": 17,
   "id": "03c995f6",
   "metadata": {},
   "outputs": [
    {
     "data": {
      "text/html": [
       "\n",
       "            <style>\n",
       "                .geemap-dark {\n",
       "                    --jp-widgets-color: white;\n",
       "                    --jp-widgets-label-color: white;\n",
       "                    --jp-ui-font-color1: white;\n",
       "                    --jp-layout-color2: #454545;\n",
       "                    background-color: #383838;\n",
       "                }\n",
       "\n",
       "                .geemap-dark .jupyter-button {\n",
       "                    --jp-layout-color3: #383838;\n",
       "                }\n",
       "\n",
       "                .geemap-colab {\n",
       "                    background-color: var(--colab-primary-surface-color, white);\n",
       "                }\n",
       "\n",
       "                .geemap-colab .jupyter-button {\n",
       "                    --jp-layout-color3: var(--colab-primary-surface-color, white);\n",
       "                }\n",
       "            </style>\n",
       "            "
      ],
      "text/plain": [
       "<IPython.core.display.HTML object>"
      ]
     },
     "metadata": {},
     "output_type": "display_data"
    },
    {
     "name": "stdout",
     "output_type": "stream",
     "text": [
      "• 2025-05-15\n",
      "• 2025-05-15\n",
      "• 2025-05-20\n",
      "• 2025-05-20\n",
      "• 2025-05-25\n",
      "• 2025-05-25\n",
      "• 2025-05-30\n",
      "• 2025-05-30\n",
      "• 2025-06-01\n",
      "• 2025-06-01\n",
      "• 2025-06-04\n",
      "• 2025-06-04\n",
      "• 2025-06-09\n",
      "• 2025-06-09\n",
      "• 2025-06-11\n",
      "• 2025-06-11\n"
     ]
    }
   ],
   "source": [
    "dates = col_clean.aggregate_array('system:time_start').getInfo()\n",
    "dates = [datetime.datetime.utcfromtimestamp(t/1000).strftime('%Y-%m-%d') for t in dates]\n",
    "for d in dates:\n",
    "    print('•', d)"
   ]
  },
  {
   "cell_type": "code",
   "execution_count": null,
   "id": "2013a717",
   "metadata": {},
   "outputs": [],
   "source": []
  }
 ],
 "metadata": {
  "kernelspec": {
   "display_name": "Python (Kenya)",
   "language": "python",
   "name": "kenya-env"
  },
  "language_info": {
   "codemirror_mode": {
    "name": "ipython",
    "version": 3
   },
   "file_extension": ".py",
   "mimetype": "text/x-python",
   "name": "python",
   "nbconvert_exporter": "python",
   "pygments_lexer": "ipython3",
   "version": "3.12.3"
  }
 },
 "nbformat": 4,
 "nbformat_minor": 5
}
