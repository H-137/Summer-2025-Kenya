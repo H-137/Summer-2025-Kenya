{
 "cells": [
  {
   "cell_type": "markdown",
   "id": "35ee4951",
   "metadata": {},
   "source": [
    "# Sentinel‑2 Cloud & Shadow Masking Workflow (s2cloudless)\n",
    "This notebook builds a cloud‑free composite, computes NDVI & SWI, and overlays Dynamic World grass and SWI outlines, all using Earth Engine.\n",
    "Run each cell top‑to‑bottom. You can tweak the user‑input section to analyse a different AOI or date range."
   ]
  },
  {
   "cell_type": "markdown",
   "id": "374911ee",
   "metadata": {},
   "source": [
    "Follow https://developers.google.com/earth-engine/reference/Quickstart#before-you-begin to get a secret key"
   ]
  },
  {
   "cell_type": "code",
   "execution_count": 2,
   "id": "1959b534",
   "metadata": {},
   "outputs": [
    {
     "data": {
      "text/html": [
       "\n",
       "            <style>\n",
       "                .geemap-dark {\n",
       "                    --jp-widgets-color: white;\n",
       "                    --jp-widgets-label-color: white;\n",
       "                    --jp-ui-font-color1: white;\n",
       "                    --jp-layout-color2: #454545;\n",
       "                    background-color: #383838;\n",
       "                }\n",
       "\n",
       "                .geemap-dark .jupyter-button {\n",
       "                    --jp-layout-color3: #383838;\n",
       "                }\n",
       "\n",
       "                .geemap-colab {\n",
       "                    background-color: var(--colab-primary-surface-color, white);\n",
       "                }\n",
       "\n",
       "                .geemap-colab .jupyter-button {\n",
       "                    --jp-layout-color3: var(--colab-primary-surface-color, white);\n",
       "                }\n",
       "            </style>\n",
       "            "
      ],
      "text/plain": [
       "<IPython.core.display.HTML object>"
      ]
     },
     "metadata": {},
     "output_type": "display_data"
    }
   ],
   "source": [
    "import ee, geemap, datetime, json, pandas as pd\n",
    "\n",
    "KEY = 'my-secret-key.json'\n",
    "with open(KEY, 'r') as f:\n",
    "    data = json.load(f)\n",
    "    SERVICE_ACCOUNT = data['client_email']\n",
    "    PROJECT = data['project_id']\n",
    "\n",
    "ee_creds = ee.ServiceAccountCredentials(SERVICE_ACCOUNT, KEY)\n",
    "ee.Initialize(ee_creds)"
   ]
  },
  {
   "cell_type": "markdown",
   "id": "0428e991",
   "metadata": {},
   "source": [
    "## User inputs – AOI, dates, thresholds"
   ]
  },
  {
   "cell_type": "code",
   "execution_count": 3,
   "id": "c222237c",
   "metadata": {},
   "outputs": [
    {
     "data": {
      "text/html": [
       "\n",
       "            <style>\n",
       "                .geemap-dark {\n",
       "                    --jp-widgets-color: white;\n",
       "                    --jp-widgets-label-color: white;\n",
       "                    --jp-ui-font-color1: white;\n",
       "                    --jp-layout-color2: #454545;\n",
       "                    background-color: #383838;\n",
       "                }\n",
       "\n",
       "                .geemap-dark .jupyter-button {\n",
       "                    --jp-layout-color3: #383838;\n",
       "                }\n",
       "\n",
       "                .geemap-colab {\n",
       "                    background-color: var(--colab-primary-surface-color, white);\n",
       "                }\n",
       "\n",
       "                .geemap-colab .jupyter-button {\n",
       "                    --jp-layout-color3: var(--colab-primary-surface-color, white);\n",
       "                }\n",
       "            </style>\n",
       "            "
      ],
      "text/plain": [
       "<IPython.core.display.HTML object>"
      ]
     },
     "metadata": {},
     "output_type": "display_data"
    }
   ],
   "source": [
    "geom = ee.Geometry.BBox(36.2597202470, 4.19477694745,\n",
    "                 36.3308408646, 4.26022461625)\n",
    "time_start  = '2025-06-01'\n",
    "time_end    = '2025-06-14'\n",
    "\n",
    "CLD_THRESH = 60   # % scene‑level filter\n",
    "CLD_PRB_THRESH = 30 # s2cloudless probability threshold\n",
    "NIR_DRK_THRESH = 0.15\n",
    "CLD_PRJ_DIST   = 2  # km\n",
    "BUFFER         = 100  # m\n",
    "NDVI_THRESH  = 0.3\n",
    "SWI_THRESH   = 0.2\n",
    "AREA_MIN = 10000 # m² (100 m x 100 m)\n",
    "NUM_POLYGONS = 10"
   ]
  },
  {
   "cell_type": "markdown",
   "id": "ed94e940",
   "metadata": {},
   "source": [
    "## Helper functions – cloud & shadow masking, NDVI, timestamp"
   ]
  },
  {
   "cell_type": "code",
   "execution_count": 4,
   "id": "bdc6b497",
   "metadata": {},
   "outputs": [
    {
     "data": {
      "text/html": [
       "\n",
       "            <style>\n",
       "                .geemap-dark {\n",
       "                    --jp-widgets-color: white;\n",
       "                    --jp-widgets-label-color: white;\n",
       "                    --jp-ui-font-color1: white;\n",
       "                    --jp-layout-color2: #454545;\n",
       "                    background-color: #383838;\n",
       "                }\n",
       "\n",
       "                .geemap-dark .jupyter-button {\n",
       "                    --jp-layout-color3: #383838;\n",
       "                }\n",
       "\n",
       "                .geemap-colab {\n",
       "                    background-color: var(--colab-primary-surface-color, white);\n",
       "                }\n",
       "\n",
       "                .geemap-colab .jupyter-button {\n",
       "                    --jp-layout-color3: var(--colab-primary-surface-color, white);\n",
       "                }\n",
       "            </style>\n",
       "            "
      ],
      "text/plain": [
       "<IPython.core.display.HTML object>"
      ]
     },
     "metadata": {},
     "output_type": "display_data"
    }
   ],
   "source": [
    "def get_s2_sr_cld_col(aoi, start_date, end_date):\n",
    "    s2_sr = (ee.ImageCollection('COPERNICUS/S2_SR_HARMONIZED')\n",
    "              .filterBounds(aoi)\n",
    "              .filterDate(start_date, end_date)\n",
    "              .filter(ee.Filter.lte('CLOUDY_PIXEL_PERCENTAGE', CLD_THRESH)))\n",
    "    s2_cld = (ee.ImageCollection('COPERNICUS/S2_CLOUD_PROBABILITY')\n",
    "              .filterBounds(aoi)\n",
    "              .filterDate(start_date, end_date))\n",
    "    return ee.ImageCollection(ee.Join.saveFirst('s2cloudless').apply(**{\n",
    "        'primary': s2_sr,\n",
    "        'secondary': s2_cld,\n",
    "        'condition': ee.Filter.equals(leftField='system:index', rightField='system:index')\n",
    "    }))\n",
    "\n",
    "def add_cloud_bands(img):\n",
    "    cld_prb = ee.Image(img.get('s2cloudless')).select('probability')\n",
    "    is_cloud = cld_prb.gt(CLD_PRB_THRESH).rename('clouds')\n",
    "    return img.addBands([cld_prb, is_cloud])\n",
    "\n",
    "def add_shadow_bands(img):\n",
    "    not_water = img.select('SCL').neq(6)\n",
    "    dark_pixels = img.select('B8').lt(NIR_DRK_THRESH * 1e4).multiply(not_water).rename('dark_pixels')\n",
    "    azimuth = ee.Number(90).subtract(ee.Number(img.get('MEAN_SOLAR_AZIMUTH_ANGLE')))\n",
    "    cld_proj = (img.select('clouds').directionalDistanceTransform(azimuth, CLD_PRJ_DIST * 10)\n",
    "                 .reproject(crs=img.select(0).projection(), scale=100)\n",
    "                 .select('distance').mask().rename('cloud_transform'))\n",
    "    shadows = cld_proj.multiply(dark_pixels).rename('shadows')\n",
    "    return img.addBands([dark_pixels, cld_proj, shadows])\n",
    "\n",
    "def add_cld_shdw_mask(img):\n",
    "    img_cloud = add_cloud_bands(img)\n",
    "    img_cloud_shadow = add_shadow_bands(img_cloud)\n",
    "    is_cld_shdw = img_cloud_shadow.select('clouds').add(img_cloud_shadow.select('shadows')).gt(0)\n",
    "    is_cld_shdw = (is_cld_shdw.focalMin(2).focalMax(BUFFER*2/20)\n",
    "                    .reproject(crs=img.select([0]).projection(), scale=20)\n",
    "                    .rename('cloudmask'))\n",
    "    return img_cloud_shadow.addBands(is_cld_shdw)\n",
    "\n",
    "def apply_cld_shdw_mask(img):\n",
    "    return img.updateMask(img.select('cloudmask').Not())\n",
    "\n",
    "def add_ndvi(img):\n",
    "    return img.addBands(img.normalizedDifference(['B8', 'B4']).rename('NDVI'))\n",
    "\n",
    "def add_timestamp(img):\n",
    "    ts = ee.Image.constant(img.date().millis()).rename('timestamp').toInt64()\n",
    "    return img.addBands(ts)\n",
    "\n",
    "def preprocess(img):\n",
    "    \"\"\"Add NDVI, timestamp (after mask) and a numeric image‑ID band.\"\"\"\n",
    "    # ---------- NDVI\n",
    "    img = img.addBands(img.normalizedDifference(['B8','B4']).rename('NDVI'))\n",
    "    \n",
    "    # ---------- timestamp band (ms since 1970‑01‑01)\n",
    "    ts = ee.Image.constant(img.date().millis()) \\\n",
    "            .rename('timestamp') \\\n",
    "            .toInt64() \\\n",
    "            .updateMask(img.select('B8').mask())      # keep only valid pixels\n",
    "    img = img.addBands(ts)\n",
    "    \n",
    "    # ---------- numeric image ID (0,1,2,…) so you can colour by source\n",
    "    img_id = ee.Image.constant(img.get('system:time_start')) \\\n",
    "                .toInt64() \\\n",
    "                .rename('img_id') \\\n",
    "                .updateMask(img.select('B8').mask())\n",
    "    return img.addBands(img_id)"
   ]
  },
  {
   "cell_type": "markdown",
   "id": "c310bcdb",
   "metadata": {},
   "source": [
    "## Build cloud‑masked collection & composite"
   ]
  },
  {
   "cell_type": "code",
   "execution_count": 5,
   "id": "554c61c1",
   "metadata": {},
   "outputs": [
    {
     "data": {
      "text/html": [
       "\n",
       "            <style>\n",
       "                .geemap-dark {\n",
       "                    --jp-widgets-color: white;\n",
       "                    --jp-widgets-label-color: white;\n",
       "                    --jp-ui-font-color1: white;\n",
       "                    --jp-layout-color2: #454545;\n",
       "                    background-color: #383838;\n",
       "                }\n",
       "\n",
       "                .geemap-dark .jupyter-button {\n",
       "                    --jp-layout-color3: #383838;\n",
       "                }\n",
       "\n",
       "                .geemap-colab {\n",
       "                    background-color: var(--colab-primary-surface-color, white);\n",
       "                }\n",
       "\n",
       "                .geemap-colab .jupyter-button {\n",
       "                    --jp-layout-color3: var(--colab-primary-surface-color, white);\n",
       "                }\n",
       "            </style>\n",
       "            "
      ],
      "text/plain": [
       "<IPython.core.display.HTML object>"
      ]
     },
     "metadata": {},
     "output_type": "display_data"
    }
   ],
   "source": [
    "col_raw = get_s2_sr_cld_col(geom, time_start, time_end)\n",
    "col_clean = (col_raw\n",
    "             .map(add_cld_shdw_mask)\n",
    "             .map(apply_cld_shdw_mask)\n",
    "             .map(preprocess))\n",
    "\n",
    "filled   = col_clean.qualityMosaic('timestamp').clip(geom)\n",
    "rgb      = filled.select(['B4','B3','B2']).divide(1e4)\n",
    "timestamp_band = filled.select('timestamp')\n",
    "ndvi   = filled.select('NDVI')\n",
    "swi    = filled.normalizedDifference(['B8','B11']).rename('SWI').gt(SWI_THRESH)\n",
    "newest_raw = ee.Image(col_raw.sort('system:time_start', False).first()).clip(geom)\n",
    "newest_raw = newest_raw.select(['B4','B3','B2']).divide(1e4)"
   ]
  },
  {
   "cell_type": "markdown",
   "id": "84aff594",
   "metadata": {},
   "source": [
    "## Dynamic World grass mask & outline"
   ]
  },
  {
   "cell_type": "code",
   "execution_count": 6,
   "id": "373e9981",
   "metadata": {},
   "outputs": [
    {
     "data": {
      "text/html": [
       "\n",
       "            <style>\n",
       "                .geemap-dark {\n",
       "                    --jp-widgets-color: white;\n",
       "                    --jp-widgets-label-color: white;\n",
       "                    --jp-ui-font-color1: white;\n",
       "                    --jp-layout-color2: #454545;\n",
       "                    background-color: #383838;\n",
       "                }\n",
       "\n",
       "                .geemap-dark .jupyter-button {\n",
       "                    --jp-layout-color3: #383838;\n",
       "                }\n",
       "\n",
       "                .geemap-colab {\n",
       "                    background-color: var(--colab-primary-surface-color, white);\n",
       "                }\n",
       "\n",
       "                .geemap-colab .jupyter-button {\n",
       "                    --jp-layout-color3: var(--colab-primary-surface-color, white);\n",
       "                }\n",
       "            </style>\n",
       "            "
      ],
      "text/plain": [
       "<IPython.core.display.HTML object>"
      ]
     },
     "metadata": {},
     "output_type": "display_data"
    }
   ],
   "source": [
    "dw = (ee.ImageCollection('GOOGLE/DYNAMICWORLD/V1')\n",
    "        .filterBounds(geom)\n",
    "        .filterDate(time_start, time_end)\n",
    "        .qualityMosaic('grass')\n",
    "        .clip(geom))\n",
    "dw_grass = dw.select('grass').gt(0.3)\n",
    "dw_outline = (dw_grass.reduceToVectors(\n",
    "        geometry=geom,\n",
    "        scale=50,\n",
    "        geometryType='polygon',\n",
    "        eightConnected=False,\n",
    "        labelProperty='grass',\n",
    "        reducer=ee.Reducer.countEvery())\n",
    "        .filter(ee.Filter.gt('grass', 0))\n",
    "        .map(lambda f: f.buffer(30).simplify(30))\n",
    "        .map(lambda f: f.set('area', f.geometry().area()))\n",
    "        .filter(ee.Filter.gt('area', AREA_MIN)))\n",
    "grass_mask  = ee.Image(0).byte().paint(dw_outline, 1)\n",
    "ndvi_masked = ndvi.updateMask(grass_mask).updateMask(ndvi.gt(NDVI_THRESH))"
   ]
  },
  {
   "cell_type": "markdown",
   "id": "6bcee82b",
   "metadata": {},
   "source": [
    "## SWI > 0.2 outline"
   ]
  },
  {
   "cell_type": "code",
   "execution_count": 7,
   "id": "74e81891",
   "metadata": {},
   "outputs": [
    {
     "data": {
      "text/html": [
       "\n",
       "            <style>\n",
       "                .geemap-dark {\n",
       "                    --jp-widgets-color: white;\n",
       "                    --jp-widgets-label-color: white;\n",
       "                    --jp-ui-font-color1: white;\n",
       "                    --jp-layout-color2: #454545;\n",
       "                    background-color: #383838;\n",
       "                }\n",
       "\n",
       "                .geemap-dark .jupyter-button {\n",
       "                    --jp-layout-color3: #383838;\n",
       "                }\n",
       "\n",
       "                .geemap-colab {\n",
       "                    background-color: var(--colab-primary-surface-color, white);\n",
       "                }\n",
       "\n",
       "                .geemap-colab .jupyter-button {\n",
       "                    --jp-layout-color3: var(--colab-primary-surface-color, white);\n",
       "                }\n",
       "            </style>\n",
       "            "
      ],
      "text/plain": [
       "<IPython.core.display.HTML object>"
      ]
     },
     "metadata": {},
     "output_type": "display_data"
    }
   ],
   "source": [
    "swi_outline = (swi.reduceToVectors(\n",
    "        geometry=geom,\n",
    "        scale=50,\n",
    "        geometryType='polygon',\n",
    "        eightConnected=True,\n",
    "        labelProperty='SWI',\n",
    "        reducer=ee.Reducer.countEvery())\n",
    "        .filter(ee.Filter.gt('SWI', 0))\n",
    "        .map(lambda f: f.buffer(30).simplify(30))\n",
    "        .map(lambda f: f.set('area', f.geometry().area())))"
   ]
  },
  {
   "cell_type": "markdown",
   "id": "bdcebb12",
   "metadata": {},
   "source": [
    "## NDVI > 0.3 Polygon"
   ]
  },
  {
   "cell_type": "code",
   "execution_count": 8,
   "id": "db6c6d08",
   "metadata": {},
   "outputs": [
    {
     "data": {
      "text/html": [
       "\n",
       "            <style>\n",
       "                .geemap-dark {\n",
       "                    --jp-widgets-color: white;\n",
       "                    --jp-widgets-label-color: white;\n",
       "                    --jp-ui-font-color1: white;\n",
       "                    --jp-layout-color2: #454545;\n",
       "                    background-color: #383838;\n",
       "                }\n",
       "\n",
       "                .geemap-dark .jupyter-button {\n",
       "                    --jp-layout-color3: #383838;\n",
       "                }\n",
       "\n",
       "                .geemap-colab {\n",
       "                    background-color: var(--colab-primary-surface-color, white);\n",
       "                }\n",
       "\n",
       "                .geemap-colab .jupyter-button {\n",
       "                    --jp-layout-color3: var(--colab-primary-surface-color, white);\n",
       "                }\n",
       "            </style>\n",
       "            "
      ],
      "text/plain": [
       "<IPython.core.display.HTML object>"
      ]
     },
     "metadata": {},
     "output_type": "display_data"
    }
   ],
   "source": [
    "# mask out NDVI below threshold\n",
    "ndvi_gt = ndvi.gt(NDVI_THRESH).rename('ndvi_gt')\n",
    "\n",
    "ndvi_outline = (\n",
    "    ndvi_gt.updateMask(ndvi.gt(0.3))\n",
    "    .reduceToVectors(\n",
    "        geometry=geom,\n",
    "        scale=100,\n",
    "        geometryType='polygon',\n",
    "        eightConnected=True,\n",
    "        labelProperty='NDVI',\n",
    "        reducer=ee.Reducer.countEvery()\n",
    "    )\n",
    "    .filter(ee.Filter.gt('NDVI', 0))\n",
    "    .map(lambda f: f.buffer(30).simplify(30))\n",
    "    .map(lambda f: f.set('area', f.geometry().area()))\n",
    "    .filter(ee.Filter.gt('area', AREA_MIN))\n",
    ")\n",
    "\n",
    "ndvi_outline = ndvi_outline.sort('area', False).limit(NUM_POLYGONS)\n",
    "\n",
    "# Step 2: Compute mean NDVI under each polygon\n",
    "ndvi_unmasked = ndvi.unmask(-9999)\n",
    "\n",
    "mean_ndvi_fc = ndvi_unmasked.reduceRegions(\n",
    "    collection=ndvi_outline,\n",
    "    reducer=ee.Reducer.mean(),\n",
    "    scale=100,\n",
    ").filter(ee.Filter.neq('mean', -9999))  # remove no-data polygons\n",
    "\n",
    "# Step 3: Print top 10 features by area with mean NDVI\n",
    "mean_ndvi_list = mean_ndvi_fc.toList(NUM_POLYGONS)\n",
    "\n",
    "# for i in range(mean_ndvi_list.size().getInfo()):\n",
    "#     feature = ee.Feature(mean_ndvi_list.get(i))\n",
    "#     area = feature.get('area').getInfo()\n",
    "#     mean_val = feature.get('mean').getInfo()\n",
    "\n",
    "#     if mean_val is not None:\n",
    "#         print(f'Polygon {i+1}: Area = {area:.2f} m², Mean NDVI = {mean_val:.4f}')\n",
    "#     else:\n",
    "#         print(f'Polygon {i+1}: Area = {area:.2f} m², Mean NDVI = None (no valid pixels)')"
   ]
  },
  {
   "cell_type": "markdown",
   "id": "d0e8fa5f",
   "metadata": {},
   "source": [
    "## Add CSV polygons"
   ]
  },
  {
   "cell_type": "code",
   "execution_count": 9,
   "id": "21d87e2f",
   "metadata": {},
   "outputs": [
    {
     "data": {
      "text/html": [
       "\n",
       "            <style>\n",
       "                .geemap-dark {\n",
       "                    --jp-widgets-color: white;\n",
       "                    --jp-widgets-label-color: white;\n",
       "                    --jp-ui-font-color1: white;\n",
       "                    --jp-layout-color2: #454545;\n",
       "                    background-color: #383838;\n",
       "                }\n",
       "\n",
       "                .geemap-dark .jupyter-button {\n",
       "                    --jp-layout-color3: #383838;\n",
       "                }\n",
       "\n",
       "                .geemap-colab {\n",
       "                    background-color: var(--colab-primary-surface-color, white);\n",
       "                }\n",
       "\n",
       "                .geemap-colab .jupyter-button {\n",
       "                    --jp-layout-color3: var(--colab-primary-surface-color, white);\n",
       "                }\n",
       "            </style>\n",
       "            "
      ],
      "text/plain": [
       "<IPython.core.display.HTML object>"
      ]
     },
     "metadata": {},
     "output_type": "display_data"
    }
   ],
   "source": [
    "import ast\n",
    "\n",
    "df = pd.read_csv('ndvi1.csv')\n",
    "\n",
    "# Convert WKT to EE geometries and build FeatureCollection\n",
    "\n",
    "features = []\n",
    "for _, row in df.iterrows():\n",
    "    geom_dict = ast.literal_eval(row['geometry'])  # parse Python dict string safely\n",
    "    \n",
    "    geom = ee.Geometry(geom_dict)\n",
    "    feat = ee.Feature(geom, {\n",
    "        'area': row['area'],\n",
    "        'count': row['count'],\n",
    "        'mean_ndvi': row['mean_ndvi'],\n",
    "        'ndvi_zone': row['ndvi_zone']\n",
    "    })\n",
    "    features.append(feat)\n",
    "\n",
    "fc = ee.FeatureCollection(features)"
   ]
  },
  {
   "cell_type": "markdown",
   "id": "2b122558",
   "metadata": {},
   "source": [
    "## Visualise layers on an interactive map"
   ]
  },
  {
   "cell_type": "code",
   "execution_count": 10,
   "id": "5259af3c",
   "metadata": {},
   "outputs": [
    {
     "data": {
      "text/html": [
       "\n",
       "            <style>\n",
       "                .geemap-dark {\n",
       "                    --jp-widgets-color: white;\n",
       "                    --jp-widgets-label-color: white;\n",
       "                    --jp-ui-font-color1: white;\n",
       "                    --jp-layout-color2: #454545;\n",
       "                    background-color: #383838;\n",
       "                }\n",
       "\n",
       "                .geemap-dark .jupyter-button {\n",
       "                    --jp-layout-color3: #383838;\n",
       "                }\n",
       "\n",
       "                .geemap-colab {\n",
       "                    background-color: var(--colab-primary-surface-color, white);\n",
       "                }\n",
       "\n",
       "                .geemap-colab .jupyter-button {\n",
       "                    --jp-layout-color3: var(--colab-primary-surface-color, white);\n",
       "                }\n",
       "            </style>\n",
       "            "
      ],
      "text/plain": [
       "<IPython.core.display.HTML object>"
      ]
     },
     "metadata": {},
     "output_type": "display_data"
    },
    {
     "data": {
      "application/vnd.jupyter.widget-view+json": {
       "model_id": "f4a45b3234d64c1781fbbec0555e66d0",
       "version_major": 2,
       "version_minor": 0
      },
      "text/plain": [
       "Map(center=[4.254895295968481, 36.31822983563288], controls=(WidgetControl(options=['position', 'transparent_b…"
      ]
     },
     "execution_count": 10,
     "metadata": {},
     "output_type": "execute_result"
    }
   ],
   "source": [
    "Map = geemap.Map()\n",
    "Map.centerObject(geom, 12)\n",
    "rgb_vis = {'min':0, 'max':0.3}\n",
    "ndvi_vis  = {'min':0,'max':1,'palette':['red','yellow','green']}\n",
    "ts_vis = {'min':ee.Date(time_start).millis().getInfo(),\n",
    "          'max':ee.Date(time_end).millis().getInfo(),\n",
    "          'palette':['red','yellow','green']}\n",
    "dw_vis = {'min':0,'max':1,'palette':['white','green']}\n",
    "swi_vis = {'min':0,'max':1,'palette':['white','blue']}\n",
    "ts_vis  = {          \n",
    "    'min': ee.Date(time_start).millis().getInfo(),\n",
    "    'max': ee.Date(time_end).millis().getInfo(),\n",
    "    'palette': ['red', 'yellow', 'green']\n",
    "}\n",
    "\n",
    "Map.addLayer(newest_raw, rgb_vis, 'RGB (Newest Raw)')\n",
    "Map.addLayer(rgb, rgb_vis, 'RGB Composite')\n",
    "Map.addLayer(timestamp_band, ts_vis, 'Pixel acquisition date (older→red, newer→green)')\n",
    "Map.addLayer(ndvi, ndvi_vis, 'NDVI (Masked)')\n",
    "# Map.addLayer(dw.select('grass'), dw_vis, 'Dynamic World Grass')\n",
    "# Map.addLayer(dw_outline, {'color':'blue'}, 'Grass Outline')\n",
    "# Map.addLayer(ndvi_masked, ndvi_vis, 'NDVI Masked to Grass')\n",
    "# Map.addLayer(swi, swi_vis, 'SWI > 0.2')\n",
    "# Map.addLayer(swi_outline, {'color':'orange'}, 'SWI Outline')\n",
    "# Map.addLayer(ndvi_outline, {'color':'purple'}, 'NDVI Outline')\n",
    "Map.addLayer(fc, {}, 'NDVI Zones')\n",
    "\n",
    "# Map.addLayer(styled_fc.style(**{'styleProperty': 'style'}), {}, 'Polygons by Mean NDVI')\n",
    "Map"
   ]
  },
  {
   "cell_type": "markdown",
   "id": "c74a5259",
   "metadata": {},
   "source": [
    "## Acquisition dates used in this composite"
   ]
  },
  {
   "cell_type": "code",
   "execution_count": 12,
   "id": "03c995f6",
   "metadata": {},
   "outputs": [
    {
     "data": {
      "text/html": [
       "\n",
       "            <style>\n",
       "                .geemap-dark {\n",
       "                    --jp-widgets-color: white;\n",
       "                    --jp-widgets-label-color: white;\n",
       "                    --jp-ui-font-color1: white;\n",
       "                    --jp-layout-color2: #454545;\n",
       "                    background-color: #383838;\n",
       "                }\n",
       "\n",
       "                .geemap-dark .jupyter-button {\n",
       "                    --jp-layout-color3: #383838;\n",
       "                }\n",
       "\n",
       "                .geemap-colab {\n",
       "                    background-color: var(--colab-primary-surface-color, white);\n",
       "                }\n",
       "\n",
       "                .geemap-colab .jupyter-button {\n",
       "                    --jp-layout-color3: var(--colab-primary-surface-color, white);\n",
       "                }\n",
       "            </style>\n",
       "            "
      ],
      "text/plain": [
       "<IPython.core.display.HTML object>"
      ]
     },
     "metadata": {},
     "output_type": "display_data"
    },
    {
     "name": "stdout",
     "output_type": "stream",
     "text": [
      "• 2025-06-01\n",
      "• 2025-06-01\n",
      "• 2025-06-04\n",
      "• 2025-06-04\n",
      "• 2025-06-09\n",
      "• 2025-06-09\n",
      "• 2025-06-11\n",
      "• 2025-06-11\n"
     ]
    }
   ],
   "source": [
    "dates = col_clean.aggregate_array('system:time_start').getInfo()\n",
    "dates = [datetime.datetime.utcfromtimestamp(t/1000).strftime('%Y-%m-%d') for t in dates]\n",
    "for d in dates:\n",
    "    print('•', d)"
   ]
  },
  {
   "cell_type": "markdown",
   "id": "295f183e",
   "metadata": {},
   "source": [
    "# Next steps\n",
    "1. Draw polygons inteligently (min 10000 m^2 (100m x 100m) and splitting polygons into equal smaller sizes if greater than (20000 m^2))\n",
    "2. Get the average NDVI within these polygons\n",
    "3. Get the dates used in gathering the data for each polygon\n",
    "4. Export to google drive"
   ]
  },
  {
   "cell_type": "code",
   "execution_count": null,
   "id": "2013a717",
   "metadata": {},
   "outputs": [],
   "source": []
  }
 ],
 "metadata": {
  "kernelspec": {
   "display_name": "Python (Kenya)",
   "language": "python",
   "name": "kenya-env"
  },
  "language_info": {
   "codemirror_mode": {
    "name": "ipython",
    "version": 3
   },
   "file_extension": ".py",
   "mimetype": "text/x-python",
   "name": "python",
   "nbconvert_exporter": "python",
   "pygments_lexer": "ipython3",
   "version": "3.12.3"
  }
 },
 "nbformat": 4,
 "nbformat_minor": 5
}
