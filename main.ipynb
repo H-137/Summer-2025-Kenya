{
 "cells": [
  {
   "cell_type": "markdown",
   "id": "e650387c",
   "metadata": {},
   "source": [
    "# Credentials and initialize conneciton\n",
    "\n",
    "Follow https://developers.google.com/earth-engine/reference/Quickstart#before-you-begin to get a secret key"
   ]
  },
  {
   "cell_type": "code",
   "execution_count": 2,
   "id": "c708c7e6",
   "metadata": {},
   "outputs": [
    {
     "data": {
      "text/html": [
       "\n",
       "            <style>\n",
       "                .geemap-dark {\n",
       "                    --jp-widgets-color: white;\n",
       "                    --jp-widgets-label-color: white;\n",
       "                    --jp-ui-font-color1: white;\n",
       "                    --jp-layout-color2: #454545;\n",
       "                    background-color: #383838;\n",
       "                }\n",
       "\n",
       "                .geemap-dark .jupyter-button {\n",
       "                    --jp-layout-color3: #383838;\n",
       "                }\n",
       "\n",
       "                .geemap-colab {\n",
       "                    background-color: var(--colab-primary-surface-color, white);\n",
       "                }\n",
       "\n",
       "                .geemap-colab .jupyter-button {\n",
       "                    --jp-layout-color3: var(--colab-primary-surface-color, white);\n",
       "                }\n",
       "            </style>\n",
       "            "
      ],
      "text/plain": [
       "<IPython.core.display.HTML object>"
      ]
     },
     "metadata": {},
     "output_type": "display_data"
    }
   ],
   "source": [
    "import json\n",
    "\n",
    "KEY = 'my-secret-key.json'\n",
    "with open(KEY, 'r') as f:\n",
    "    data = json.load(f)\n",
    "    SERVICE_ACCOUNT = data['client_email']\n",
    "    PROJECT = data['project_id']"
   ]
  },
  {
   "cell_type": "code",
   "execution_count": 3,
   "id": "09a2d70e",
   "metadata": {},
   "outputs": [
    {
     "data": {
      "text/html": [
       "\n",
       "            <style>\n",
       "                .geemap-dark {\n",
       "                    --jp-widgets-color: white;\n",
       "                    --jp-widgets-label-color: white;\n",
       "                    --jp-ui-font-color1: white;\n",
       "                    --jp-layout-color2: #454545;\n",
       "                    background-color: #383838;\n",
       "                }\n",
       "\n",
       "                .geemap-dark .jupyter-button {\n",
       "                    --jp-layout-color3: #383838;\n",
       "                }\n",
       "\n",
       "                .geemap-colab {\n",
       "                    background-color: var(--colab-primary-surface-color, white);\n",
       "                }\n",
       "\n",
       "                .geemap-colab .jupyter-button {\n",
       "                    --jp-layout-color3: var(--colab-primary-surface-color, white);\n",
       "                }\n",
       "            </style>\n",
       "            "
      ],
      "text/plain": [
       "<IPython.core.display.HTML object>"
      ]
     },
     "metadata": {},
     "output_type": "display_data"
    }
   ],
   "source": [
    "import ee\n",
    "\n",
    "ee_creds = ee.ServiceAccountCredentials(SERVICE_ACCOUNT, KEY)\n",
    "ee.Initialize(ee_creds)"
   ]
  },
  {
   "cell_type": "markdown",
   "id": "3dde0424",
   "metadata": {},
   "source": [
    "# NDVI around coordinate"
   ]
  },
  {
   "cell_type": "code",
   "execution_count": 6,
   "id": "ccbf12da",
   "metadata": {},
   "outputs": [
    {
     "data": {
      "text/html": [
       "\n",
       "            <style>\n",
       "                .geemap-dark {\n",
       "                    --jp-widgets-color: white;\n",
       "                    --jp-widgets-label-color: white;\n",
       "                    --jp-ui-font-color1: white;\n",
       "                    --jp-layout-color2: #454545;\n",
       "                    background-color: #383838;\n",
       "                }\n",
       "\n",
       "                .geemap-dark .jupyter-button {\n",
       "                    --jp-layout-color3: #383838;\n",
       "                }\n",
       "\n",
       "                .geemap-colab {\n",
       "                    background-color: var(--colab-primary-surface-color, white);\n",
       "                }\n",
       "\n",
       "                .geemap-colab .jupyter-button {\n",
       "                    --jp-layout-color3: var(--colab-primary-surface-color, white);\n",
       "                }\n",
       "            </style>\n",
       "            "
      ],
      "text/plain": [
       "<IPython.core.display.HTML object>"
      ]
     },
     "metadata": {},
     "output_type": "display_data"
    },
    {
     "name": "stdout",
     "output_type": "stream",
     "text": [
      "Index to Date mapping:\n",
      "Index 0: 2024-05-14\n",
      "Index 1: 2024-05-14\n",
      "Index 2: 2024-05-19\n",
      "Index 3: 2024-05-19\n",
      "Index 4: 2024-05-24\n",
      "Index 5: 2024-05-24\n",
      "Index 6: 2024-05-29\n",
      "Index 7: 2024-05-29\n",
      "Index 8: 2024-06-03\n",
      "Index 9: 2024-06-08\n",
      "Index 10: 2024-06-08\n"
     ]
    },
    {
     "data": {
      "application/vnd.jupyter.widget-view+json": {
       "model_id": "7debdda4d5cc450aa5f1cafd5196d443",
       "version_major": 2,
       "version_minor": 0
      },
      "text/plain": [
       "Map(center=[-2.75, 38.55], controls=(WidgetControl(options=['position', 'transparent_bg'], widget=SearchDataGU…"
      ]
     },
     "execution_count": 6,
     "metadata": {},
     "output_type": "execute_result"
    }
   ],
   "source": [
    "import geemap\n",
    "\n",
    "def add_ndvi_and_index_before_mask(image, index):\n",
    "    ndvi = image.normalizedDifference(['B8', 'B4']).rename('NDVI')\n",
    "    index_band = ee.Image.constant(index).rename('index').toFloat()\n",
    "    return image.addBands([ndvi, index_band])\n",
    "\n",
    "def mask_s2_bad_data(image):\n",
    "    scl = image.select('SCL')\n",
    "    bad_classes = [0, 1, 2, 3, 8, 9, 10]\n",
    "    mask = scl.remap(bad_classes, [0]*len(bad_classes), 1).eq(1)\n",
    "    return image.updateMask(mask)\n",
    "\n",
    "# --- 2. Define geometry and load collection ---\n",
    "\n",
    "geom = ee.Geometry.BBox(38.4, -2.9, 38.7, -2.6)\n",
    "\n",
    "collection = (\n",
    "    ee.ImageCollection('COPERNICUS/S2_SR_HARMONIZED')\n",
    "    .filter(ee.Filter.lt('CLOUDY_PIXEL_PERCENTAGE', 40))\n",
    "    .filterBounds(geom)\n",
    "    .filterDate('2024-05-10', '2024-06-10')\n",
    "    .sort('system:time_start', True)  # Oldest first\n",
    ")\n",
    "\n",
    "images_list = collection.toList(collection.size())\n",
    "dates = []\n",
    "processed_images = []\n",
    "\n",
    "# --- 3. Build image list with NDVI + index BEFORE masking ---\n",
    "for i in range(images_list.size().getInfo()):\n",
    "    img = ee.Image(images_list.get(i))\n",
    "    date_str = ee.Date(img.get('system:time_start')).format('YYYY-MM-dd').getInfo()\n",
    "    dates.append(date_str)\n",
    "\n",
    "    img_with_bands = add_ndvi_and_index_before_mask(img, i)\n",
    "    img_masked = mask_s2_bad_data(img_with_bands)\n",
    "\n",
    "    processed_images.append(img_masked)\n",
    "\n",
    "indexed_collection = ee.ImageCollection(processed_images)\n",
    "\n",
    "# --- 4. Build final filled composite ---\n",
    "filled = indexed_collection.qualityMosaic('index').clip(geom)\n",
    "ndvi = filled.select('NDVI')\n",
    "index = filled.select('index')\n",
    "\n",
    "# Also get the newest unmasked image for comparison\n",
    "newest_raw = collection.sort('system:time_start', False).first().clip(geom)\n",
    "rgb_raw = newest_raw.select(['B4', 'B3', 'B2']).divide(10000)\n",
    "rgb_filled = filled.select(['B4', 'B3', 'B2']).divide(10000)\n",
    "\n",
    "# --- 5. Visualization parameters ---\n",
    "ndvi_vis = {\n",
    "    'min': 0,\n",
    "    'max': 1.0,\n",
    "    'palette': ['red', 'yellow', 'green']\n",
    "}\n",
    "\n",
    "index_vis = {\n",
    "    'min': 0,\n",
    "    'max': len(dates) - 1,\n",
    "    'palette': ['black', 'white']\n",
    "}\n",
    "\n",
    "rgb_vis = {\n",
    "    'min': 0.0,\n",
    "    'max': 0.3,\n",
    "}\n",
    "\n",
    "# --- 6. Create map ---\n",
    "Map = geemap.Map(center=[-2.75, 38.55], zoom=12)\n",
    "Map.addLayer(ndvi, ndvi_vis, 'Cloud-Filled NDVI')\n",
    "Map.addLayer(index, index_vis, 'Image Recency Index (black=newest)')\n",
    "Map.addLayer(rgb_raw, rgb_vis, 'RGB Composite (Raw)')\n",
    "Map.addLayer(rgb_filled, rgb_vis, 'RGB Composite (Filtered)')\n",
    "\n",
    "# --- 7. Print date mapping ---\n",
    "print(\"Index to Date mapping:\")\n",
    "for idx, d in enumerate(dates):\n",
    "    print(f\"Index {idx}: {d}\")\n",
    "\n",
    "Map\n"
   ]
  },
  {
   "cell_type": "markdown",
   "id": "35b92f41",
   "metadata": {},
   "source": [
    "# Dynamic World around coordinate"
   ]
  },
  {
   "cell_type": "code",
   "execution_count": 7,
   "id": "7741fbef",
   "metadata": {},
   "outputs": [
    {
     "data": {
      "text/html": [
       "\n",
       "            <style>\n",
       "                .geemap-dark {\n",
       "                    --jp-widgets-color: white;\n",
       "                    --jp-widgets-label-color: white;\n",
       "                    --jp-ui-font-color1: white;\n",
       "                    --jp-layout-color2: #454545;\n",
       "                    background-color: #383838;\n",
       "                }\n",
       "\n",
       "                .geemap-dark .jupyter-button {\n",
       "                    --jp-layout-color3: #383838;\n",
       "                }\n",
       "\n",
       "                .geemap-colab {\n",
       "                    background-color: var(--colab-primary-surface-color, white);\n",
       "                }\n",
       "\n",
       "                .geemap-colab .jupyter-button {\n",
       "                    --jp-layout-color3: var(--colab-primary-surface-color, white);\n",
       "                }\n",
       "            </style>\n",
       "            "
      ],
      "text/plain": [
       "<IPython.core.display.HTML object>"
      ]
     },
     "metadata": {},
     "output_type": "display_data"
    },
    {
     "data": {
      "application/vnd.jupyter.widget-view+json": {
       "model_id": "8f5cc9d488614ba5a1bb3687272d092d",
       "version_major": 2,
       "version_minor": 0
      },
      "text/plain": [
       "Map(center=[-2.75, 38.55], controls=(WidgetControl(options=['position', 'transparent_bg'], widget=SearchDataGU…"
      ]
     },
     "execution_count": 7,
     "metadata": {},
     "output_type": "execute_result"
    }
   ],
   "source": [
    "import geemap\n",
    "from pprint import pprint\n",
    "\n",
    "# Create map\n",
    "Map = geemap.Map(center=[-2.75, 38.55], zoom=12)\n",
    "\n",
    "# Define geometry and date range\n",
    "geom = ee.Geometry.BBox(38.4, -2.9, 38.7, -2.6)\n",
    "\n",
    "# Filter Dynamic World collection\n",
    "dw_col = ee.ImageCollection('GOOGLE/DYNAMICWORLD/V1') \\\n",
    "    .filterBounds(geom) \\\n",
    "    .filterDate('2024-05-10', '2024-06-10')\n",
    "\n",
    "dw_img = dw_col.qualityMosaic('label').clip(geom)\n",
    "\n",
    "# Define color palette for Dynamic World labels\n",
    "vis_palette = [\n",
    "    '419bdf', '397d49', '88b053', '7a87c6', 'e49635',\n",
    "    'dfc35a', 'c4281b', 'a59b8f', 'b39fe1'\n",
    "]\n",
    "\n",
    "# Visualize the label band\n",
    "dw_vis = dw_img.select('label').visualize(min=0, max=8, palette=vis_palette)\n",
    "\n",
    "# Add layer to the map\n",
    "Map.addLayer(ndvi, ndvi_vis, 'Cloud-Filled NDVI')\n",
    "Map.addLayer(index, index_vis, 'Image Recency Index (black=newest)')\n",
    "Map.addLayer(rgb_raw, rgb_vis, 'RGB Composite (Raw)')\n",
    "Map.addLayer(rgb_filled, rgb_vis, 'RGB Composite (Filtered)')\n",
    "Map.addLayer(dw_vis, {}, 'Dynamic World label')\n",
    "Map\n"
   ]
  },
  {
   "cell_type": "code",
   "execution_count": null,
   "id": "5f11e481",
   "metadata": {},
   "outputs": [],
   "source": []
  }
 ],
 "metadata": {
  "kernelspec": {
   "display_name": "Python (Kenya)",
   "language": "python",
   "name": "kenya-env"
  },
  "language_info": {
   "codemirror_mode": {
    "name": "ipython",
    "version": 3
   },
   "file_extension": ".py",
   "mimetype": "text/x-python",
   "name": "python",
   "nbconvert_exporter": "python",
   "pygments_lexer": "ipython3",
   "version": "3.12.3"
  }
 },
 "nbformat": 4,
 "nbformat_minor": 5
}
