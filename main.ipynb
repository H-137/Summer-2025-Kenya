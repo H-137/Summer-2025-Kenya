{
 "cells": [
  {
   "cell_type": "markdown",
   "id": "e650387c",
   "metadata": {},
   "source": [
    "# Credentials and initialize conneciton\n",
    "\n",
    "Follow https://developers.google.com/earth-engine/reference/Quickstart#before-you-begin to get a secret key"
   ]
  },
  {
   "cell_type": "code",
   "execution_count": 27,
   "id": "c708c7e6",
   "metadata": {},
   "outputs": [
    {
     "data": {
      "text/html": [
       "\n",
       "            <style>\n",
       "                .geemap-dark {\n",
       "                    --jp-widgets-color: white;\n",
       "                    --jp-widgets-label-color: white;\n",
       "                    --jp-ui-font-color1: white;\n",
       "                    --jp-layout-color2: #454545;\n",
       "                    background-color: #383838;\n",
       "                }\n",
       "\n",
       "                .geemap-dark .jupyter-button {\n",
       "                    --jp-layout-color3: #383838;\n",
       "                }\n",
       "\n",
       "                .geemap-colab {\n",
       "                    background-color: var(--colab-primary-surface-color, white);\n",
       "                }\n",
       "\n",
       "                .geemap-colab .jupyter-button {\n",
       "                    --jp-layout-color3: var(--colab-primary-surface-color, white);\n",
       "                }\n",
       "            </style>\n",
       "            "
      ],
      "text/plain": [
       "<IPython.core.display.HTML object>"
      ]
     },
     "metadata": {},
     "output_type": "display_data"
    }
   ],
   "source": [
    "import json\n",
    "\n",
    "KEY = 'my-secret-key.json'\n",
    "with open(KEY, 'r') as f:\n",
    "    data = json.load(f)\n",
    "    SERVICE_ACCOUNT = data['client_email']\n",
    "    PROJECT = data['project_id']"
   ]
  },
  {
   "cell_type": "code",
   "execution_count": 21,
   "id": "09a2d70e",
   "metadata": {},
   "outputs": [
    {
     "data": {
      "text/html": [
       "\n",
       "            <style>\n",
       "                .geemap-dark {\n",
       "                    --jp-widgets-color: white;\n",
       "                    --jp-widgets-label-color: white;\n",
       "                    --jp-ui-font-color1: white;\n",
       "                    --jp-layout-color2: #454545;\n",
       "                    background-color: #383838;\n",
       "                }\n",
       "\n",
       "                .geemap-dark .jupyter-button {\n",
       "                    --jp-layout-color3: #383838;\n",
       "                }\n",
       "\n",
       "                .geemap-colab {\n",
       "                    background-color: var(--colab-primary-surface-color, white);\n",
       "                }\n",
       "\n",
       "                .geemap-colab .jupyter-button {\n",
       "                    --jp-layout-color3: var(--colab-primary-surface-color, white);\n",
       "                }\n",
       "            </style>\n",
       "            "
      ],
      "text/plain": [
       "<IPython.core.display.HTML object>"
      ]
     },
     "metadata": {},
     "output_type": "display_data"
    }
   ],
   "source": [
    "import ee\n",
    "\n",
    "ee_creds = ee.ServiceAccountCredentials(SERVICE_ACCOUNT, KEY)\n",
    "ee.Initialize(ee_creds)"
   ]
  },
  {
   "cell_type": "code",
   "execution_count": 32,
   "id": "3cd7d0a2",
   "metadata": {},
   "outputs": [
    {
     "data": {
      "text/html": [
       "\n",
       "            <style>\n",
       "                .geemap-dark {\n",
       "                    --jp-widgets-color: white;\n",
       "                    --jp-widgets-label-color: white;\n",
       "                    --jp-ui-font-color1: white;\n",
       "                    --jp-layout-color2: #454545;\n",
       "                    background-color: #383838;\n",
       "                }\n",
       "\n",
       "                .geemap-dark .jupyter-button {\n",
       "                    --jp-layout-color3: #383838;\n",
       "                }\n",
       "\n",
       "                .geemap-colab {\n",
       "                    background-color: var(--colab-primary-surface-color, white);\n",
       "                }\n",
       "\n",
       "                .geemap-colab .jupyter-button {\n",
       "                    --jp-layout-color3: var(--colab-primary-surface-color, white);\n",
       "                }\n",
       "            </style>\n",
       "            "
      ],
      "text/plain": [
       "<IPython.core.display.HTML object>"
      ]
     },
     "metadata": {},
     "output_type": "display_data"
    },
    {
     "data": {
      "application/vnd.jupyter.widget-view+json": {
       "model_id": "f82da96fb558467faf4b88223983418d",
       "version_major": 2,
       "version_minor": 0
      },
      "text/plain": [
       "Map(center=[37.5, -122.0], controls=(WidgetControl(options=['position', 'transparent_bg'], widget=SearchDataGU…"
      ]
     },
     "execution_count": 32,
     "metadata": {},
     "output_type": "execute_result"
    }
   ],
   "source": [
    "import geemap\n",
    "\n",
    "# Bounding box: [west, south, east, north]\n",
    "bbox = ee.Geometry.BBox(-122.5, 37.0, -121.5, 38.0)\n",
    "\n",
    "start_date = '2024-06-01'\n",
    "end_date = '2024-06-30'\n",
    "\n",
    "# 🆕 Use harmonized Sentinel-2\n",
    "s2 = ee.ImageCollection('COPERNICUS/S2_SR') \\\n",
    "    .filterBounds(bbox) \\\n",
    "    .filterDate(start_date, end_date) \\\n",
    "    .filter(ee.Filter.lt('CLOUDY_PIXEL_PERCENTAGE', 20)) \\\n",
    "    .sort('system:time_start', False)\n",
    "\n",
    "# Cloud mask using Scene Classification Layer (SCL)\n",
    "def compute_ndvi(image):\n",
    "    ndvi = image.normalizedDifference(['B8', 'B4']).rename('NDVI')\n",
    "    scl = image.select('SCL')\n",
    "    # Mask: cloud shadow (3), medium/high cloud (8, 9), cirrus (10)\n",
    "    mask = scl.neq(3).And(scl.neq(8)).And(scl.neq(9)).And(scl.neq(10))\n",
    "    return image.addBands(ndvi).updateMask(mask)\n",
    "\n",
    "# Map function and get most recent image with valid pixels\n",
    "s2_ndvi = s2.map(compute_ndvi)\n",
    "latest_ndvi = s2_ndvi.select('NDVI').mosaic().clip(bbox)\n",
    "\n",
    "# NDVI visualization\n",
    "ndvi_vis = {\n",
    "    'min': 0.0,\n",
    "    'max': 1.0,\n",
    "    'palette': ['white', 'green']\n",
    "}\n",
    "\n",
    "# Display with geemap\n",
    "Map = geemap.Map(center=[37.5, -122.0], zoom=9)\n",
    "Map.addLayer(latest_ndvi, ndvi_vis, 'Latest NDVI')\n",
    "Map.addLayer(bbox, {}, 'Bounding Box')\n",
    "Map\n"
   ]
  }
 ],
 "metadata": {
  "kernelspec": {
   "display_name": "Python (Kenya)",
   "language": "python",
   "name": "kenya-env"
  },
  "language_info": {
   "codemirror_mode": {
    "name": "ipython",
    "version": 3
   },
   "file_extension": ".py",
   "mimetype": "text/x-python",
   "name": "python",
   "nbconvert_exporter": "python",
   "pygments_lexer": "ipython3",
   "version": "3.12.3"
  }
 },
 "nbformat": 4,
 "nbformat_minor": 5
}
