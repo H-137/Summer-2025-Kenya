{
 "cells": [
  {
   "cell_type": "markdown",
   "id": "e650387c",
   "metadata": {},
   "source": [
    "# Credentials and initialize conneciton\n",
    "\n",
    "Follow https://developers.google.com/earth-engine/reference/Quickstart#before-you-begin to get a secret key"
   ]
  },
  {
   "cell_type": "code",
   "execution_count": 1,
   "id": "c708c7e6",
   "metadata": {},
   "outputs": [],
   "source": [
    "import json\n",
    "\n",
    "KEY = 'my-secret-key.json'\n",
    "with open(KEY, 'r') as f:\n",
    "    data = json.load(f)\n",
    "    SERVICE_ACCOUNT = data['client_email']\n",
    "    PROJECT = data['project_id']"
   ]
  },
  {
   "cell_type": "code",
   "execution_count": 2,
   "id": "09a2d70e",
   "metadata": {},
   "outputs": [],
   "source": [
    "import ee\n",
    "\n",
    "ee_creds = ee.ServiceAccountCredentials(SERVICE_ACCOUNT, KEY)\n",
    "ee.Initialize(ee_creds)"
   ]
  },
  {
   "cell_type": "markdown",
   "id": "3dde0424",
   "metadata": {},
   "source": [
    "# NDVI around coordinate"
   ]
  },
  {
   "cell_type": "code",
   "execution_count": null,
   "id": "ccbf12da",
   "metadata": {},
   "outputs": [
    {
     "data": {
      "text/html": [
       "\n",
       "            <style>\n",
       "                .geemap-dark {\n",
       "                    --jp-widgets-color: white;\n",
       "                    --jp-widgets-label-color: white;\n",
       "                    --jp-ui-font-color1: white;\n",
       "                    --jp-layout-color2: #454545;\n",
       "                    background-color: #383838;\n",
       "                }\n",
       "\n",
       "                .geemap-dark .jupyter-button {\n",
       "                    --jp-layout-color3: #383838;\n",
       "                }\n",
       "\n",
       "                .geemap-colab {\n",
       "                    background-color: var(--colab-primary-surface-color, white);\n",
       "                }\n",
       "\n",
       "                .geemap-colab .jupyter-button {\n",
       "                    --jp-layout-color3: var(--colab-primary-surface-color, white);\n",
       "                }\n",
       "            </style>\n",
       "            "
      ],
      "text/plain": [
       "<IPython.core.display.HTML object>"
      ]
     },
     "metadata": {},
     "output_type": "display_data"
    },
    {
     "name": "stdout",
     "output_type": "stream",
     "text": [
      "Index to Date mapping:\n",
      "Index 0: 2024-05-14\n",
      "Index 1: 2024-05-14\n",
      "Index 2: 2024-05-19\n",
      "Index 3: 2024-05-19\n",
      "Index 4: 2024-05-24\n",
      "Index 5: 2024-05-24\n",
      "Index 6: 2024-05-29\n",
      "Index 7: 2024-05-29\n",
      "Index 8: 2024-06-03\n",
      "Index 9: 2024-06-08\n",
      "Index 10: 2024-06-08\n"
     ]
    },
    {
     "data": {
      "application/vnd.jupyter.widget-view+json": {
       "model_id": "b3c3d61a78954a1cba4250f1c7b92cc8",
       "version_major": 2,
       "version_minor": 0
      },
      "text/plain": [
       "Map(center=[-2.75, 38.55], controls=(WidgetControl(options=['position', 'transparent_bg'], widget=SearchDataGU…"
      ]
     },
     "execution_count": 43,
     "metadata": {},
     "output_type": "execute_result"
    }
   ],
   "source": [
    "import geemap\n",
    "\n",
    "# --- Add NDVI and date index bands before masking ---\n",
    "def add_ndvi_and_index_before_mask(image, index):\n",
    "    ndvi = image.normalizedDifference(['B8', 'B4']).rename('NDVI')\n",
    "    index_band = ee.Image.constant(index).rename('index').toFloat()\n",
    "    return image.addBands([ndvi, index_band])\n",
    "\n",
    "# --- Mask Sentinel-2 bad data ---\n",
    "def mask_s2_bad_data(image):\n",
    "    scl = image.select('SCL')\n",
    "    bad_classes = [0, 1, 2, 3, 8, 9, 10]\n",
    "    mask = scl.remap(bad_classes, [0]*len(bad_classes), 1).eq(1)\n",
    "    return image.updateMask(mask)\n",
    "\n",
    "# --- Pull area function ---\n",
    "def pull_area(geom, time_start, time_end):\n",
    "    # Sentinel-2 image collection\n",
    "    collection = (\n",
    "        ee.ImageCollection('COPERNICUS/S2_SR_HARMONIZED')\n",
    "        .filter(ee.Filter.lt('CLOUDY_PIXEL_PERCENTAGE', 40))\n",
    "        .filterBounds(geom)\n",
    "        .filterDate(time_start, time_end)\n",
    "        .sort('system:time_start', True)\n",
    "    )\n",
    "\n",
    "    images_list = collection.toList(collection.size())\n",
    "    dates = []\n",
    "    processed_images = []\n",
    "\n",
    "    # Process each image\n",
    "    for i in range(images_list.size().getInfo()):\n",
    "        img = ee.Image(images_list.get(i))\n",
    "        date_str = ee.Date(img.get('system:time_start')).format('YYYY-MM-dd').getInfo()\n",
    "        dates.append(date_str)\n",
    "        img_with_bands = add_ndvi_and_index_before_mask(img, i)\n",
    "        img_masked = mask_s2_bad_data(img_with_bands)\n",
    "        processed_images.append(img_masked)\n",
    "\n",
    "    # Rebuild collection\n",
    "    indexed_collection = ee.ImageCollection(processed_images)\n",
    "    filled = indexed_collection.qualityMosaic('index').clip(geom)\n",
    "\n",
    "    # Extract bands\n",
    "    ndvi = filled.select('NDVI')\n",
    "    index = filled.select('index')\n",
    "    newest_raw = collection.sort('system:time_start', False).first().clip(geom)\n",
    "    rgb_raw = newest_raw.select(['B4', 'B3', 'B2']).divide(10000)\n",
    "    rgb_filled = filled.select(['B4', 'B3', 'B2']).divide(10000)\n",
    "\n",
    "    # Dynamic World grass mosaic\n",
    "    dw_collection = (\n",
    "        ee.ImageCollection('GOOGLE/DYNAMICWORLD/V1')\n",
    "        .filterBounds(geom)\n",
    "        .filterDate(time_start, time_end)\n",
    "    )\n",
    "\n",
    "    dw_image = dw_collection.qualityMosaic('grass').clip(geom)\n",
    "    dw_grass_mask = dw_image.select('grass').gt(0.3)\n",
    "\n",
    "    # Create vector outline\n",
    "    dw_outline = dw_grass_mask.reduceToVectors(\n",
    "        geometry=geom,\n",
    "        scale=50,\n",
    "        geometryType='polygon',\n",
    "        eightConnected=False,\n",
    "        labelProperty='grass',\n",
    "        reducer=ee.Reducer.countEvery()\n",
    "    )\n",
    "\n",
    "    dw_outline = (\n",
    "        dw_outline\n",
    "        .filter(ee.Filter.gt('grass', 0))\n",
    "        .map(lambda f: f.buffer(30).simplify(30))\n",
    "        .map(lambda f: f.set('area', f.geometry().area()))\n",
    "        .filter(ee.Filter.gt('area', 100000))  # ~1 ha\n",
    "    )\n",
    "\n",
    "    # Visualization params\n",
    "    ndvi_vis = {'min': 0, 'max': 1.0, 'palette': ['red', 'yellow', 'green']}\n",
    "    index_vis = {'min': 0, 'max': len(dates) - 1, 'palette': ['black', 'white']}\n",
    "    rgb_vis = {'min': 0.0, 'max': 0.3}\n",
    "    dw_params = {'min': 0, 'max': 1, 'palette': ['white', 'green']}\n",
    "\n",
    "    # Create and populate map\n",
    "    Map = geemap.Map(center=[-2.75, 38.55], zoom=12)\n",
    "    Map.addLayer(ndvi, ndvi_vis, 'Cloud-Filled NDVI')\n",
    "    Map.addLayer(index, index_vis, 'Image Recency Index (black=newest)')\n",
    "    Map.addLayer(rgb_raw, rgb_vis, 'RGB Composite (Raw)')\n",
    "    Map.addLayer(rgb_filled, rgb_vis, 'RGB Composite (Filtered)')\n",
    "    Map.addLayer(dw_image.select('grass'), dw_params, 'Dynamic World (Grass)')\n",
    "    Map.addLayer(dw_outline, {'color': 'blue'}, 'Dynamic World (Grass Outline)')\n",
    "\n",
    "    # Print mapping\n",
    "    print(\"Index to Date mapping:\")\n",
    "    for idx, d in enumerate(dates):\n",
    "        print(f\"Index {idx}: {d}\")\n",
    "\n",
    "    return Map, ndvi, dw_outline\n",
    "\n",
    "\n",
    "# Example usage\n",
    "geom = ee.Geometry.BBox(38.4, -2.9, 38.7, -2.6)\n",
    "time_start = '2024-05-10'\n",
    "time_end = '2024-06-10'\n",
    "Map, ndvi, dw_outline = pull_area(geom, time_start, time_end)\n",
    "\n",
    "# Show map (for notebooks)\n",
    "Map\n"
   ]
  },
  {
   "cell_type": "code",
   "execution_count": 51,
   "id": "36c8acdb",
   "metadata": {},
   "outputs": [
    {
     "data": {
      "text/html": [
       "\n",
       "            <style>\n",
       "                .geemap-dark {\n",
       "                    --jp-widgets-color: white;\n",
       "                    --jp-widgets-label-color: white;\n",
       "                    --jp-ui-font-color1: white;\n",
       "                    --jp-layout-color2: #454545;\n",
       "                    background-color: #383838;\n",
       "                }\n",
       "\n",
       "                .geemap-dark .jupyter-button {\n",
       "                    --jp-layout-color3: #383838;\n",
       "                }\n",
       "\n",
       "                .geemap-colab {\n",
       "                    background-color: var(--colab-primary-surface-color, white);\n",
       "                }\n",
       "\n",
       "                .geemap-colab .jupyter-button {\n",
       "                    --jp-layout-color3: var(--colab-primary-surface-color, white);\n",
       "                }\n",
       "            </style>\n",
       "            "
      ],
      "text/plain": [
       "<IPython.core.display.HTML object>"
      ]
     },
     "metadata": {},
     "output_type": "display_data"
    },
    {
     "name": "stdout",
     "output_type": "stream",
     "text": [
      "\n",
      "Average NDVI in Dynamic World 'grass' area: 0.263\n"
     ]
    }
   ],
   "source": [
    "# Create a binary mask image from dw_outline\n",
    "dw_mask = ee.Image(0).byte().paint(featureCollection=dw_outline, color=1)\n",
    "masked_ndvi = ndvi.updateMask(dw_mask)\n",
    "\n",
    "# Compute mean NDVI under the mask\n",
    "mean_ndvi_dict = masked_ndvi.reduceRegion(\n",
    "    reducer=ee.Reducer.mean(),\n",
    "    geometry=geom,\n",
    "    scale=10,\n",
    "    maxPixels=1e9\n",
    ")\n",
    "mean_ndvi = mean_ndvi_dict.get('NDVI').getInfo()\n",
    "print(f\"\\nAverage NDVI in Dynamic World 'grass' area: {mean_ndvi:.3f}\")\n",
    "\n",
    "# Visualize the masked NDVI\n",
    "masked_ndvi_vis = {'min': 0, 'max': 1.0, 'palette': ['red', 'yellow', 'green']}\n",
    "Map.addLayer(masked_ndvi, masked_ndvi_vis, 'NDVI (Masked to Grass)')\n"
   ]
  },
  {
   "cell_type": "code",
   "execution_count": null,
   "id": "d7f9ecd8",
   "metadata": {},
   "outputs": [],
   "source": []
  }
 ],
 "metadata": {
  "kernelspec": {
   "display_name": "Python (Kenya)",
   "language": "python",
   "name": "kenya-env"
  },
  "language_info": {
   "codemirror_mode": {
    "name": "ipython",
    "version": 3
   },
   "file_extension": ".py",
   "mimetype": "text/x-python",
   "name": "python",
   "nbconvert_exporter": "python",
   "pygments_lexer": "ipython3",
   "version": "3.12.3"
  }
 },
 "nbformat": 4,
 "nbformat_minor": 5
}
