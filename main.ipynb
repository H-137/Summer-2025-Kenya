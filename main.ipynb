{
 "cells": [
  {
   "cell_type": "markdown",
   "id": "e650387c",
   "metadata": {},
   "source": [
    "# Credentials and initialize conneciton\n",
    "\n",
    "Follow https://developers.google.com/earth-engine/reference/Quickstart#before-you-begin to get a secret key"
   ]
  },
  {
   "cell_type": "code",
   "execution_count": 2,
   "id": "c708c7e6",
   "metadata": {},
   "outputs": [],
   "source": [
    "import json\n",
    "\n",
    "KEY = 'my-secret-key.json'\n",
    "with open(KEY, 'r') as f:\n",
    "    data = json.load(f)\n",
    "    SERVICE_ACCOUNT = data['client_email']\n",
    "    PROJECT = data['project_id']"
   ]
  },
  {
   "cell_type": "code",
   "execution_count": 3,
   "id": "09a2d70e",
   "metadata": {},
   "outputs": [],
   "source": [
    "import ee\n",
    "\n",
    "ee_creds = ee.ServiceAccountCredentials(SERVICE_ACCOUNT, KEY)\n",
    "ee.Initialize(ee_creds)"
   ]
  },
  {
   "cell_type": "markdown",
   "id": "3dde0424",
   "metadata": {},
   "source": [
    "# NDVI around coordinate"
   ]
  },
  {
   "cell_type": "code",
   "execution_count": 61,
   "id": "ccbf12da",
   "metadata": {},
   "outputs": [
    {
     "data": {
      "text/html": [
       "\n",
       "            <style>\n",
       "                .geemap-dark {\n",
       "                    --jp-widgets-color: white;\n",
       "                    --jp-widgets-label-color: white;\n",
       "                    --jp-ui-font-color1: white;\n",
       "                    --jp-layout-color2: #454545;\n",
       "                    background-color: #383838;\n",
       "                }\n",
       "\n",
       "                .geemap-dark .jupyter-button {\n",
       "                    --jp-layout-color3: #383838;\n",
       "                }\n",
       "\n",
       "                .geemap-colab {\n",
       "                    background-color: var(--colab-primary-surface-color, white);\n",
       "                }\n",
       "\n",
       "                .geemap-colab .jupyter-button {\n",
       "                    --jp-layout-color3: var(--colab-primary-surface-color, white);\n",
       "                }\n",
       "            </style>\n",
       "            "
      ],
      "text/plain": [
       "<IPython.core.display.HTML object>"
      ]
     },
     "metadata": {},
     "output_type": "display_data"
    },
    {
     "name": "stdout",
     "output_type": "stream",
     "text": [
      "Index to Date mapping:\n",
      "Index 0: 2025-06-01\n",
      "Index 1: 2025-06-06\n",
      "Index 2: 2025-06-08\n"
     ]
    },
    {
     "data": {
      "application/vnd.jupyter.widget-view+json": {
       "model_id": "6cf7e5f7b6694216a84cd3567e013ec7",
       "version_major": 2,
       "version_minor": 0
      },
      "text/plain": [
       "Map(center=[0.5, 37], controls=(WidgetControl(options=['position', 'transparent_bg'], widget=SearchDataGUI(chi…"
      ]
     },
     "execution_count": 61,
     "metadata": {},
     "output_type": "execute_result"
    }
   ],
   "source": [
    "import geemap\n",
    "\n",
    "def mask_s2_clouds(image):\n",
    "    scl = image.select('SCL')\n",
    "    # Mask classes: clouds (3,8,9,10), cloud shadow (3), maybe snow (11)\n",
    "    cloud_classes = [0,1, 2, 3, 8, 9, 10]\n",
    "    mask = scl.remap(cloud_classes, [0]*len(cloud_classes), 1).eq(1)\n",
    "    return image.updateMask(mask)\n",
    "\n",
    "def add_ndvi_and_index(image, index):\n",
    "    ndvi = image.normalizedDifference(['B8', 'B4']).rename('NDVI')\n",
    "    index_band = ee.Image.constant(index).rename('index').toFloat()\n",
    "    return image.addBands([ndvi, index_band])\n",
    "\n",
    "# Define 1km bbox near Nairobi\n",
    "geom = ee.Geometry.BBox(36.9, 0.4, 37.1, 0.6)\n",
    "\n",
    "# Filter collection and mask clouds\n",
    "collection = (\n",
    "    ee.ImageCollection('COPERNICUS/S2_SR_HARMONIZED')\n",
    "    .filterBounds(geom)\n",
    "    .filterDate('2025-06-01', '2025-06-10')\n",
    "    .map(mask_s2_clouds)\n",
    "    .sort('system:time_start')  # oldest first\n",
    ")\n",
    "\n",
    "images_list = collection.toList(collection.size())\n",
    "dates = []\n",
    "indexed_images = []\n",
    "\n",
    "# Build new images with NDVI + index bands\n",
    "for i in range(images_list.size().getInfo()):\n",
    "    img = ee.Image(images_list.get(i))\n",
    "    date_str = ee.Date(img.get('system:time_start')).format('YYYY-MM-dd').getInfo()\n",
    "    dates.append(date_str)\n",
    "    indexed_img = add_ndvi_and_index(img, i)\n",
    "    indexed_images.append(indexed_img)\n",
    "\n",
    "indexed_collection = ee.ImageCollection(indexed_images)\n",
    "\n",
    "# qualityMosaic by 'index' to get newest pixel per location (index highest = newest)\n",
    "filled = indexed_collection.qualityMosaic('index').clip(geom)\n",
    "ndvi = filled.select('NDVI')\n",
    "rgb = filled.select(['B4', 'B3', 'B2']).divide(10000)  # Scale RGB bands to [0, 0.3]\n",
    "index = filled.select('index')\n",
    "\n",
    "\n",
    "# Visualization parameters\n",
    "ndvi_vis = {\n",
    "    'min': 0,\n",
    "    'max': 1.0,\n",
    "    'palette': ['red', 'yellow' 'green']\n",
    "}\n",
    "\n",
    "index_vis = {\n",
    "    'min': 0,\n",
    "    'max': len(dates) - 1,\n",
    "    'palette': ['black', 'white']  # white=oldest, black=newest\n",
    "}\n",
    "\n",
    "rgb_vis = {\n",
    "    'min': 0.0,\n",
    "    'max': 0.3,\n",
    "}\n",
    "\n",
    "# Create the map\n",
    "Map = geemap.Map(center=[0.5, 37], zoom=15)\n",
    "Map.addLayer(ndvi, ndvi_vis, 'Cloud-Filled NDVI')\n",
    "Map.addLayer(index, index_vis, 'Image Recency Index (black=newest)')\n",
    "Map.addLayer(rgb, rgb_vis, 'RGB Composite')\n",
    "\n",
    "# Print index-to-date mapping\n",
    "print(\"Index to Date mapping:\")\n",
    "for idx, d in enumerate(dates):\n",
    "    print(f\"Index {idx}: {d}\")\n",
    "\n",
    "Map\n"
   ]
  },
  {
   "cell_type": "markdown",
   "id": "35b92f41",
   "metadata": {},
   "source": [
    "# Dynamic World around coordinate"
   ]
  },
  {
   "cell_type": "code",
   "execution_count": 50,
   "id": "7741fbef",
   "metadata": {},
   "outputs": [
    {
     "data": {
      "text/html": [
       "\n",
       "            <style>\n",
       "                .geemap-dark {\n",
       "                    --jp-widgets-color: white;\n",
       "                    --jp-widgets-label-color: white;\n",
       "                    --jp-ui-font-color1: white;\n",
       "                    --jp-layout-color2: #454545;\n",
       "                    background-color: #383838;\n",
       "                }\n",
       "\n",
       "                .geemap-dark .jupyter-button {\n",
       "                    --jp-layout-color3: #383838;\n",
       "                }\n",
       "\n",
       "                .geemap-colab {\n",
       "                    background-color: var(--colab-primary-surface-color, white);\n",
       "                }\n",
       "\n",
       "                .geemap-colab .jupyter-button {\n",
       "                    --jp-layout-color3: var(--colab-primary-surface-color, white);\n",
       "                }\n",
       "            </style>\n",
       "            "
      ],
      "text/plain": [
       "<IPython.core.display.HTML object>"
      ]
     },
     "metadata": {},
     "output_type": "display_data"
    },
    {
     "name": "stdout",
     "output_type": "stream",
     "text": [
      "Most recent image date: 2025-06-08\n"
     ]
    },
    {
     "data": {
      "application/vnd.jupyter.widget-view+json": {
       "model_id": "0d7389d9dc49482fb1adb28e3f6c54a5",
       "version_major": 2,
       "version_minor": 0
      },
      "text/plain": [
       "Map(center=[0.5, 37], controls=(WidgetControl(options=['position', 'transparent_bg'], widget=SearchDataGUI(chi…"
      ]
     },
     "execution_count": 50,
     "metadata": {},
     "output_type": "execute_result"
    }
   ],
   "source": [
    "import geemap\n",
    "import ee\n",
    "\n",
    "# Define bbox near Nairobi\n",
    "geom = ee.Geometry.BBox(36.9, 0.4, 37.1, 0.6)\n",
    "\n",
    "# Load Dynamic World image collection (most recent first)\n",
    "collection = (\n",
    "    ee.ImageCollection('GOOGLE/DYNAMICWORLD/V1')\n",
    "    .filterBounds(geom)\n",
    "    .filterDate('2025-06-01', '2025-06-10')\n",
    "    .sort('system:time_start', False)\n",
    ")\n",
    "\n",
    "# Extract only the 'grass' probability band and clip to geometry\n",
    "grass_collection = collection.map(lambda img: img.select('grass').clip(geom))\n",
    "\n",
    "# Convert to a list\n",
    "grass_list = grass_collection.toList(grass_collection.size())\n",
    "\n",
    "# Get first image\n",
    "first = ee.Image(grass_list.get(0))\n",
    "\n",
    "# Define the iterative temporal filling function\n",
    "def fill_temporally(img, prev):\n",
    "    img = ee.Image(img)\n",
    "    prev = ee.Image(prev)\n",
    "    return prev.blend(img)\n",
    "\n",
    "\n",
    "# Iterate over the rest of the list\n",
    "rest = grass_list.slice(1)\n",
    "filled_grass = ee.Image(rest.iterate(fill_temporally, first))\n",
    "\n",
    "# Visualization parameters\n",
    "grass_vis = {\n",
    "    'min': 0,\n",
    "    'max': 1,\n",
    "    'palette': ['ffffff', '88b053']  # white to green\n",
    "}\n",
    "\n",
    "# Display\n",
    "Map = geemap.Map(center=[0.5, 37], zoom=14)\n",
    "Map.addLayer(filled_grass, grass_vis, 'Grass Probability (Temporally Filled)')\n",
    "Map\n",
    "\n",
    "# Print the date of the most recent image\n",
    "most_recent = ee.Image(collection.first())\n",
    "print(\"Most recent image date:\", ee.Date(most_recent.get('system:time_start')).format('YYYY-MM-dd').getInfo())\n",
    "\n",
    "Map\n"
   ]
  },
  {
   "cell_type": "code",
   "execution_count": null,
   "id": "5f11e481",
   "metadata": {},
   "outputs": [],
   "source": []
  }
 ],
 "metadata": {
  "kernelspec": {
   "display_name": "Python (Kenya)",
   "language": "python",
   "name": "kenya-env"
  },
  "language_info": {
   "codemirror_mode": {
    "name": "ipython",
    "version": 3
   },
   "file_extension": ".py",
   "mimetype": "text/x-python",
   "name": "python",
   "nbconvert_exporter": "python",
   "pygments_lexer": "ipython3",
   "version": "3.12.3"
  }
 },
 "nbformat": 4,
 "nbformat_minor": 5
}
